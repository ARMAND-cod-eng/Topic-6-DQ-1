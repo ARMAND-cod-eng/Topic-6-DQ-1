{
 "cells": [
  {
   "cell_type": "markdown",
   "id": "f708ad52",
   "metadata": {},
   "source": [
    "# Topic 6 DQ 1"
   ]
  },
  {
   "cell_type": "markdown",
   "id": "6180aa69",
   "metadata": {},
   "source": [
    "What are some common assumptions that underlie hypothesis testing for paired data, multiple population means, and variance comparisons? Discuss the potential consequences of violating these assumptions and suggest possible remedies. Additionally, provide examples of situations where each of these statistical tests may be appropriate, and explain why. Finally, what are some practical limitations or considerations when interpreting the results of these tests? How can Python be used to develop a useful tool in this context?\n",
    "\n",
    "Prepare your answer as follows:\n",
    "\n",
    "    - Provide a professionally written answer, anchored in scholarly work.\n",
    "    - Create a diagram, table, or other visual prop to help explain your answer and include 1–2 sentences describing the visual.\n",
    "    - Include a Jupyter notebook with the relevant Python code you created.\n",
    "    - Record a short 2- to 3-minute video (using tools like Zoom or Loom) in which you explain your answer and code. Use an online video platform such as Loom, YouTube, or Vimeo to upload your completed video. Include the link to the video in your answer."
   ]
  },
  {
   "cell_type": "markdown",
   "id": "8dbcf541",
   "metadata": {},
   "source": [
    "Hypothesis testing is a fundamental statistical technique used to make inferences about population parameters based on sample data. However, the validity of hypothesis tests relies on certain assumptions about the data and the underlying distributions. In this comprehensive discussion, we will explore the common assumptions underlying hypothesis testing for paired data, multiple population means, and variance comparisons."
   ]
  },
  {
   "cell_type": "markdown",
   "id": "5a2826ea",
   "metadata": {},
   "source": [
    "#### - paired t-test\n",
    "The paired t-test is a method used to test whether the mean difference between pairs of measurements is zero or not.\n",
    "\n",
    "When can I use the test?\n",
    "\n",
    "You can use the test when your data values are paired measurements. For example, you might have before-and-after measurements for a group of people. Also, the distribution of differences between the paired measurements should be normally distributed.\n"
   ]
  },
  {
   "cell_type": "markdown",
   "id": "c9dac492",
   "metadata": {},
   "source": [
    "#### - Multiple Population Means Hypothesis Testing:\n",
    "\n",
    "Multiple Population Means Hypothesis Testing, commonly referred to as analysis of variance (ANOVA), is a statistical method used to compare means across three or more groups or populations. It extends the concept of the two-sample t-test to multiple groups. ANOVA assesses whether there are statistically significant differences between the means of these groups.\n"
   ]
  },
  {
   "cell_type": "markdown",
   "id": "64041e5f",
   "metadata": {},
   "source": [
    "#### - Variance Comparisons:\n",
    "\n",
    "Variance comparisons, also known as tests of homogeneity of variances or tests of equality of variances, are statistical methods used to assess whether the variances of two or more groups or populations are equal. This comparison is crucial in various statistical analyses, including hypothesis testing and regression analysis, where the assumption of equal variances is often necessary for valid inferences.\n"
   ]
  },
  {
   "cell_type": "markdown",
   "id": "2b91a5fe",
   "metadata": {},
   "source": [
    "#### Assumptions, Consequences of Violations, and Remedies\n",
    "\n",
    "1. paired t-test\n",
    "\n",
    "- Assumption: The differences between paired observations are normally distributed.\n",
    "- Consequences of Violation: Incorrect p-values, leading to erroneous conclusions.\n",
    "- Remedies: Transformation of data, non-parametric tests like Wilcoxon signed-rank test.\n",
    "\n",
    "2. Multiple Population Means Hypothesis Testing:\n",
    "- Assumption: Population variances are equal (homogeneity of variances), and data are normally distributed.\n",
    "- Consequences of Violation: Inflated Type I error rate (False Positive) for ANOVA.\n",
    "- Remedies: Welch's ANOVA or non-parametric tests like Kruskal-Wallis test for equal medians.\n",
    "\n",
    "\n",
    "3. Variance Comparisons:\n",
    "- Assumption: Samples are independent and come from populations with equal variances.\n",
    "- Consequences of Violation: Incorrect F-statistic leading to incorrect conclusions.\n",
    "- Remedies: Brown-Forsythe test for variance comparison or non-parametric alternatives like Levene's test.\n"
   ]
  },
  {
   "cell_type": "markdown",
   "id": "8d5eae3c",
   "metadata": {},
   "source": [
    "#### Examples and Applicability:\n",
    "\n",
    "1. Paired Data Hypothesis Testing:\n",
    "\n",
    "- Example: Imagine we have a training program and administer a pretest and posttest to the same sample of students. Consequently, each student has a pair of test scores. \n",
    "- Applicability: Useful when comparing two related samples, such as before and after measurements, eliminating inter-subject variability.\n",
    "\n",
    "2. Multiple Population Means Hypothesis Testing:\n",
    "\n",
    "- Example: Comparing the effectiveness of three different drugs on blood pressure reduction.\n",
    "- Applicability: Suitable for comparing means across multiple groups when assumptions of normality and equal variances hold.\n",
    "\n",
    "2. Variance Comparisons:\n",
    "\n",
    "- Example: Assessing whether the variability in IQ scores differs between genders.\n",
    "- Applicability: Helpful in determining if there are significant differences in variances between groups, which is crucial in various fields like psychology and education.\n"
   ]
  },
  {
   "cell_type": "code",
   "execution_count": null,
   "id": "89b0784b",
   "metadata": {},
   "outputs": [],
   "source": []
  },
  {
   "cell_type": "code",
   "execution_count": 1,
   "id": "84ea5035",
   "metadata": {},
   "outputs": [],
   "source": [
    "#import the librerie.\n",
    "from scipy import stats"
   ]
  },
  {
   "cell_type": "code",
   "execution_count": 2,
   "id": "d5896b99",
   "metadata": {},
   "outputs": [
    {
     "name": "stdout",
     "output_type": "stream",
     "text": [
      "Paired Data Hypothesis Testing:\n",
      "T-statistic: -inf\n",
      "P-value: 0.0\n"
     ]
    },
    {
     "name": "stderr",
     "output_type": "stream",
     "text": [
      "C:\\Users\\ARMAND\\anaconda3\\Lib\\site-packages\\scipy\\stats\\_axis_nan_policy.py:523: RuntimeWarning: Precision loss occurred in moment calculation due to catastrophic cancellation. This occurs when the data are nearly identical. Results may be unreliable.\n",
      "  res = hypotest_fun_out(*samples, **kwds)\n"
     ]
    }
   ],
   "source": [
    "# Paired Data Hypothesis Testing\n",
    "paired_data = [1, 2, 3, 4, 5], [2, 3, 4, 5, 6]  # Example paired data\n",
    "t_statistic, p_value = stats.ttest_rel(*paired_data)\n",
    "print(\"Paired Data Hypothesis Testing:\")\n",
    "print(\"T-statistic:\", t_statistic)\n",
    "print(\"P-value:\", p_value)\n"
   ]
  },
  {
   "cell_type": "code",
   "execution_count": 3,
   "id": "821fb3c0",
   "metadata": {},
   "outputs": [
    {
     "name": "stdout",
     "output_type": "stream",
     "text": [
      "\n",
      "Multiple Population Means Hypothesis Testing (ANOVA):\n",
      "F-statistic: 1.062780269058296\n",
      "P-value: 0.37588356036647347\n"
     ]
    }
   ],
   "source": [
    "\n",
    "# Multiple Population Means Hypothesis Testing (ANOVA)\n",
    "group1 = [23, 25, 28, 32, 30]  # Example data for group 1\n",
    "group2 = [27, 29, 31, 33, 35]  # Example data for group 2\n",
    "group3 = [22, 26, 29, 34, 31]  # Example data for group 3\n",
    "f_statistic, p_value = stats.f_oneway(group1, group2, group3)\n",
    "print(\"\\nMultiple Population Means Hypothesis Testing (ANOVA):\")\n",
    "print(\"F-statistic:\", f_statistic)\n",
    "print(\"P-value:\", p_value)\n"
   ]
  },
  {
   "cell_type": "code",
   "execution_count": 4,
   "id": "44846ce3",
   "metadata": {},
   "outputs": [
    {
     "name": "stdout",
     "output_type": "stream",
     "text": [
      "\n",
      "Variance Comparisons:\n",
      "F-statistic: 1.0\n",
      "P-value: 0.3465935070873342\n"
     ]
    }
   ],
   "source": [
    "\n",
    "# Variance Comparisons\n",
    "group1_var = [2, 3, 4, 5, 6]  # Example data for group 1\n",
    "group2_var = [1, 3, 4, 6, 8]  # Example data for group 2\n",
    "f_statistic, p_value = stats.levene(group1_var, group2_var)\n",
    "print(\"\\nVariance Comparisons:\")\n",
    "print(\"F-statistic:\", f_statistic)\n",
    "print(\"P-value:\", p_value)"
   ]
  },
  {
   "cell_type": "code",
   "execution_count": null,
   "id": "b9edd8b9",
   "metadata": {},
   "outputs": [],
   "source": []
  },
  {
   "cell_type": "code",
   "execution_count": null,
   "id": "da0d7681",
   "metadata": {},
   "outputs": [],
   "source": []
  }
 ],
 "metadata": {
  "kernelspec": {
   "display_name": "Python 3 (ipykernel)",
   "language": "python",
   "name": "python3"
  },
  "language_info": {
   "codemirror_mode": {
    "name": "ipython",
    "version": 3
   },
   "file_extension": ".py",
   "mimetype": "text/x-python",
   "name": "python",
   "nbconvert_exporter": "python",
   "pygments_lexer": "ipython3",
   "version": "3.11.5"
  }
 },
 "nbformat": 4,
 "nbformat_minor": 5
}
